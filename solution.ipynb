{
 "metadata": {
  "language_info": {
   "codemirror_mode": {
    "name": "ipython",
    "version": 3
   },
   "file_extension": ".py",
   "mimetype": "text/x-python",
   "name": "python",
   "nbconvert_exporter": "python",
   "pygments_lexer": "ipython3",
   "version": "3.7.7-final"
  },
  "orig_nbformat": 2,
  "kernelspec": {
   "name": "python3",
   "display_name": "Python 3",
   "language": "python"
  }
 },
 "nbformat": 4,
 "nbformat_minor": 2,
 "cells": [
  {
   "cell_type": "markdown",
   "source": [
    "***Day 1 (Part One): Find the two entries that sum to 2020; what do you get if you multiply them together?***"
   ],
   "metadata": {}
  },
  {
   "cell_type": "code",
   "execution_count": 115,
   "source": [
    "#read data\n",
    "with open(\"data/input_d1.txt\", \"r\") as f:\n",
    "    entrs = [int(x) for x in next(f).split()]\n",
    "    for line in f:\n",
    "        entrs.append(int(line))\n",
    "\n",
    "#algorithm: \n",
    "# 1) keep a set of previously visited numbers\n",
    "# 2) if 2020-current_num is in the set return current_num*(2020-current_num)\n",
    "# 3) else add current_num to set \n",
    "s = set()\n",
    "for entr in entrs:\n",
    "    if len(s) is 0:\n",
    "        s.add(entr)\n",
    "    elif 2020-entr in s:\n",
    "        print(entr*(2020-entr))\n",
    "        break\n",
    "    else:\n",
    "        s.add(entr)"
   ],
   "outputs": [
    {
     "output_type": "stream",
     "name": "stdout",
     "text": [
      "972576\n"
     ]
    }
   ],
   "metadata": {}
  },
  {
   "cell_type": "markdown",
   "source": [
    "***Day 1 (Part Two): what is the product of the three entries that sum to 2020?***"
   ],
   "metadata": {}
  },
  {
   "cell_type": "code",
   "execution_count": 24,
   "source": [
    "#algorithm: \n",
    "# 1) keep a set of previously visited numbers\n",
    "# 2) for each num in set check if 2020-current_num-num is in set\n",
    "# 3) if yes, return num*current_num*(2020-num-current_num)\n",
    "# 4) else add current_num to set \n",
    "\n",
    "s = set()\n",
    "for entr in entrs:\n",
    "    if len(s) is 0:\n",
    "        s.add(entr)\n",
    "    else:\n",
    "        for i in s:\n",
    "            if 2020-entr-i in s:\n",
    "                print(i*entr*(2020-entr-i))\n",
    "                break\n",
    "        s.add(entr)"
   ],
   "outputs": [
    {
     "output_type": "stream",
     "name": "stdout",
     "text": [
      "199300880\n"
     ]
    }
   ],
   "metadata": {}
  },
  {
   "cell_type": "markdown",
   "source": [
    "***Day 2 (Part One): How many passwords are valid according to their policies?***"
   ],
   "metadata": {}
  },
  {
   "cell_type": "code",
   "execution_count": 35,
   "source": [
    "c = 0\n",
    "\n",
    "#read data\n",
    "with open(\"data/input_d2.txt\", \"r\") as f:\n",
    "    for line in f:\n",
    "        inp = line.split(\" \")\n",
    "        start,end = inp[0].split(\"-\")\n",
    "        l = inp[1][:-1]\n",
    "        word = inp[2][:-1]\n",
    "    \n",
    "        #check if the count is in the specified limits\n",
    "        if int(start) <= word.count(l) <= int(end):\n",
    "            c+=1\n",
    "        else:\n",
    "            continue\n",
    "print(c)      "
   ],
   "outputs": [
    {
     "output_type": "stream",
     "name": "stdout",
     "text": [
      "603\n"
     ]
    }
   ],
   "metadata": {
    "tags": []
   }
  },
  {
   "cell_type": "code",
   "execution_count": null,
   "source": [
    "***Day 2 (Part Two): How many passwords are valid according to the new interpretation of the policies?***"
   ],
   "outputs": [],
   "metadata": {}
  },
  {
   "cell_type": "code",
   "execution_count": 46,
   "source": [
    "c = 0\n",
    "\n",
    "#read data\n",
    "with open(\"data/input_d2.txt\", \"r\") as f:\n",
    "    for line in f:\n",
    "        inp = line.split(\" \")\n",
    "        start,end = inp[0].split(\"-\")\n",
    "        l = inp[1][:-1]\n",
    "        word = inp[2][:-1]\n",
    "\n",
    "        start = int(start)\n",
    "        end = int(end)\n",
    "\n",
    "        #check if only one of the positions have the allowed letter\n",
    "        if (word[start-1] is l) != (word[end-1] is l):\n",
    "            c+=1\n",
    "        else:\n",
    "            continue\n",
    "print(c)      "
   ],
   "outputs": [
    {
     "output_type": "stream",
     "name": "stdout",
     "text": [
      "404\n"
     ]
    }
   ],
   "metadata": {}
  },
  {
   "cell_type": "markdown",
   "source": [
    "***Day 3 (Part One): Starting at the top-left corner of your map and following a slope of right 3 and down 1, how many trees would you encounter?***"
   ],
   "metadata": {}
  },
  {
   "cell_type": "code",
   "execution_count": 32,
   "source": [
    "#read data\n",
    "with open(\"data/input_d3.txt\", \"r\") as f:\n",
    "    m = f.read().split('\\n')\n",
    "    m = m[:-1]\n",
    "    cur_w = 0\n",
    "    cur_h = 0\n",
    "    h = len(m)\n",
    "    w = len(m[0])\n",
    "    c = 0\n",
    "    while cur_h < h:\n",
    "        if cur_w >= w:\n",
    "            cur_w -= w\n",
    "        if m[cur_h][cur_w] is '#':\n",
    "            c += 1\n",
    "        cur_h += 1\n",
    "        cur_w += 3\n",
    "    print(c)"
   ],
   "outputs": [
    {
     "output_type": "stream",
     "name": "stdout",
     "text": [
      "232\n"
     ]
    }
   ],
   "metadata": {
    "tags": []
   }
  },
  {
   "cell_type": "markdown",
   "source": [
    "***Day 3 (Part Two): What do you get if you multiply together the number of trees encountered on each of the listed slopes?***"
   ],
   "metadata": {}
  },
  {
   "cell_type": "code",
   "execution_count": 36,
   "source": [
    "#read data\n",
    "import math\n",
    "with open(\"data/input_d3.txt\", \"r\") as f:\n",
    "    m = f.read().split('\\n')\n",
    "    m = m[:-1]\n",
    "    h = len(m)\n",
    "    w = len(m[0])\n",
    "    c = [0]*5\n",
    "    chan = [1,1,1,1,2]\n",
    "    chan_w = [1,3,5,7,1]\n",
    "    for i in range(5):\n",
    "        cur_w = 0\n",
    "        cur_h = 0\n",
    "        while cur_h < h:\n",
    "            if cur_w >= w:\n",
    "                cur_w -= w\n",
    "            if m[cur_h][cur_w] is '#':\n",
    "                c[i] += 1\n",
    "            cur_h += chan[i]\n",
    "            cur_w += chan_w[i]\n",
    "    out = 1\n",
    "    for ent in c:\n",
    "        out *= ent\n",
    "    print(out)"
   ],
   "outputs": [
    {
     "output_type": "stream",
     "name": "stdout",
     "text": [
      "3952291680\n"
     ]
    }
   ],
   "metadata": {}
  },
  {
   "cell_type": "markdown",
   "source": [
    "***Day 4 (Part One): In your batch file, how many passports are valid?***"
   ],
   "metadata": {}
  },
  {
   "cell_type": "code",
   "execution_count": 114,
   "source": [
    "#read data\n",
    "import math\n",
    "with open(\"data/input_d4.txt\", \"r\") as f:\n",
    "    m = f.read().split('\\n')\n",
    "    c = 0\n",
    "    temp = set()\n",
    "    match = set(['byr', 'iyr', 'eyr', 'hgt', 'hcl', 'ecl', 'pid'])\n",
    "    for l in m:\n",
    "        if len(l) == 0:\n",
    "            if match == temp:\n",
    "                c+=1\n",
    "            temp = set()\n",
    "        else:\n",
    "            l = l.split(' ')\n",
    "            for p in l:\n",
    "                key = p[:p.index(':')]\n",
    "                if key != 'cid':\n",
    "                    temp.add(key)\n",
    "    print(c)"
   ],
   "outputs": [
    {
     "output_type": "stream",
     "name": "stdout",
     "text": [
      "196\n"
     ]
    }
   ],
   "metadata": {
    "tags": []
   }
  },
  {
   "cell_type": "markdown",
   "source": [
    "***Day 4 (Part Two): In your batch file, how many passports are valid?***"
   ],
   "metadata": {}
  },
  {
   "cell_type": "code",
   "execution_count": 86,
   "source": [
    "#read data\n",
    "import re\n",
    "with open(\"data/input_d4.txt\", \"r\") as f:\n",
    "    m = f.read().split('\\n')\n",
    "    c = 0\n",
    "    temp = set()\n",
    "    match = set(['byr', 'iyr', 'eyr', 'hgt', 'hcl', 'ecl', 'pid'])\n",
    "    for l in m:\n",
    "        if len(l) == 0:\n",
    "            if match == temp:\n",
    "                c+=1\n",
    "            temp = set()\n",
    "        # horrible solution...\n",
    "        else:\n",
    "            l = l.split(' ')\n",
    "            for p in l:\n",
    "                key, val = p.split(':')\n",
    "                if key != 'cid':\n",
    "                    if key == 'byr' and not (1920 <= int(val) <= 2002):\n",
    "                        continue\n",
    "                    elif key == 'iyr' and not (2010 <= int(val) <= 2020):\n",
    "                        continue\n",
    "                    elif key == 'eyr' and not (len(val) == 4 and 2020 <= int(val) <= 2030):\n",
    "                        continue\n",
    "                    elif key == 'hgt':\n",
    "                        v2 = re.search(\"[a-z]\", val)\n",
    "                        if not v2:\n",
    "                            continue\n",
    "                        v2 = v2.start()\n",
    "                        v1 = val[:v2]\n",
    "                        v2 = val[v2:]\n",
    "                        if v2 == 'cm' and not 150 <= int(v1) <= 193:\n",
    "                            continue\n",
    "                        elif v2 == 'in' and not 59 <= int(v1) <= 76:\n",
    "                            continue\n",
    "                    elif key == 'hcl' and not (val[0]=='#' and re.search(\"[0-9a-f]\",val[1:]) and len(val[1:]) == 6):\n",
    "                        continue\n",
    "                    elif key == 'ecl' and not val in ['amb','blu','brn','gry','grn','hzl','oth']:\n",
    "                        continue\n",
    "                    elif key == 'pid' and not len(val) == 9:\n",
    "                        continue\n",
    "                    temp.add(key)\n",
    "    print(c)\n",
    "\n"
   ],
   "outputs": [
    {
     "output_type": "stream",
     "name": "stdout",
     "text": [
      "114\n"
     ]
    }
   ],
   "metadata": {
    "tags": []
   }
  },
  {
   "cell_type": "code",
   "execution_count": null,
   "source": [
    "***Day 5 (Part One): What is the highest seat ID on a boarding pass?***"
   ],
   "outputs": [],
   "metadata": {}
  },
  {
   "cell_type": "code",
   "execution_count": 100,
   "source": [
    "#read data\n",
    "import math\n",
    "with open(\"data/input_d5.txt\", \"r\") as f:\n",
    "    m = f.read().split('\\n')\n",
    "    h = 0\n",
    "    for line in m[:-1]:\n",
    "        row = line[:-3]\n",
    "        row = row.replace(\"B\",\"1\")\n",
    "        row = row.replace(\"F\",\"0\")\n",
    "        col = line[-3:]\n",
    "        col = col.replace('R',\"1\")\n",
    "        col = col.replace('L',\"0\")\n",
    "        col = int(col, 2)\n",
    "        row = int(row, 2)\n",
    "        h = max(h, row*8+col)\n",
    "    print(h)\n"
   ],
   "outputs": [
    {
     "output_type": "stream",
     "name": "stdout",
     "text": [
      "996\n"
     ]
    }
   ],
   "metadata": {}
  },
  {
   "cell_type": "markdown",
   "source": [
    "***Day 5 (Part Two): What is the ID of your seat?***"
   ],
   "metadata": {}
  },
  {
   "cell_type": "code",
   "execution_count": 113,
   "source": [
    "#read data\n",
    "import math\n",
    "with open(\"data/input_d5.txt\", \"r\") as f:\n",
    "    m = f.read().split('\\n')\n",
    "    ids = []\n",
    "    for line in m[:-1]:\n",
    "        row = line[:-3]\n",
    "        row = row.replace(\"B\",\"1\")\n",
    "        row = row.replace(\"F\",\"0\")\n",
    "        col = line[-3:]\n",
    "        col = col.replace('R',\"1\")\n",
    "        col = col.replace('L',\"0\")\n",
    "        col = int(col, 2)\n",
    "        row = int(row, 2)\n",
    "        ids.append(row*8+col)\n",
    "    ids = sorted(ids)\n",
    "    c = ids[0]\n",
    "    while c < ids[-1]:\n",
    "        if c-1 in ids and c+1 in ids and c not in ids:\n",
    "            print(c)\n",
    "            break\n",
    "        c+=1\n",
    "        \n"
   ],
   "outputs": [
    {
     "output_type": "stream",
     "name": "stdout",
     "text": [
      "671\n"
     ]
    }
   ],
   "metadata": {}
  },
  {
   "cell_type": "markdown",
   "source": [
    "***Day 6 (Part One): What is the sum of those counts?***"
   ],
   "metadata": {}
  },
  {
   "cell_type": "code",
   "execution_count": 113,
   "source": [
    "#read data\n",
    "import math\n",
    "with open(\"data/input_d6.txt\", \"r\") as f:\n",
    "    m = f.read().split('\\n')\n",
    "    ids = []\n",
    "    for line in m[:-1]:\n",
    "        print(line)\n",
    "    #     row = line[:-3]\n",
    "    #     row = row.replace(\"B\",\"1\")\n",
    "    #     row = row.replace(\"F\",\"0\")\n",
    "    #     col = line[-3:]\n",
    "    #     col = col.replace('R',\"1\")\n",
    "    #     col = col.replace('L',\"0\")\n",
    "    #     col = int(col, 2)\n",
    "    #     row = int(row, 2)\n",
    "    #     ids.append(row*8+col)\n",
    "    # ids = sorted(ids)\n",
    "    # c = ids[0]\n",
    "    # while c < ids[-1]:\n",
    "    #     if c-1 in ids and c+1 in ids and c not in ids:\n",
    "    #         print(c)\n",
    "    #         break\n",
    "    #     c+=1\n",
    "        \n"
   ],
   "outputs": [
    {
     "output_type": "stream",
     "name": "stdout",
     "text": [
      "671\n"
     ]
    }
   ],
   "metadata": {}
  }
 ]
}